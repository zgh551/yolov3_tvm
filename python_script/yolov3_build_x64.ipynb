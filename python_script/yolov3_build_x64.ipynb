{
 "cells": [
  {
   "cell_type": "markdown",
   "id": "7c79bcfe",
   "metadata": {},
   "source": [
    "# yolov3 module"
   ]
  },
  {
   "cell_type": "code",
   "execution_count": 1,
   "id": "ddecb610",
   "metadata": {},
   "outputs": [],
   "source": [
    "import numpy as np\n",
    "import sys\n",
    "\n",
    "# tvm\n",
    "import tvm\n",
    "from tvm import te\n",
    "from tvm import relay\n",
    "\n",
    "from tvm.relay.testing.darknet import __darknetffi__"
   ]
  },
  {
   "cell_type": "markdown",
   "id": "302b2738",
   "metadata": {},
   "source": [
    "## Converting module"
   ]
  },
  {
   "cell_type": "code",
   "execution_count": 2,
   "id": "ebbb26b0",
   "metadata": {},
   "outputs": [],
   "source": [
    "# cfg path\n",
    "cfg_path = \"../yolov3/yolov3.cfg\"\n",
    "\n",
    "# weights path\n",
    "weights_path = \"../yolov3/yolov3.weights\"\n",
    "\n",
    "# lib path\n",
    "lib_path = \"../yolov3/libdarknet2.0.so\""
   ]
  },
  {
   "cell_type": "code",
   "execution_count": 3,
   "id": "0663e0c9",
   "metadata": {},
   "outputs": [
    {
     "name": "stdout",
     "output_type": "stream",
     "text": [
      "<cffi.api._make_ffi_library.<locals>.FFILibrary object at 0x7fe8049a2048>\n"
     ]
    }
   ],
   "source": [
    "DARKNET_LIB = __darknetffi__.dlopen(lib_path)\n",
    "print(DARKNET_LIB)"
   ]
  },
  {
   "cell_type": "code",
   "execution_count": 7,
   "id": "1ed6d2f5",
   "metadata": {},
   "outputs": [
    {
     "name": "stdout",
     "output_type": "stream",
     "text": [
      "<cdata 'network *' 0xb405de0>\n",
      "{'data': (1, 3, 416, 416)}\n",
      "80\n"
     ]
    }
   ],
   "source": [
    "net = DARKNET_LIB.load_network(cfg_path.encode(\"utf-8\"), weights_path.encode(\"utf-8\"), 0)\n",
    "print(net)\n",
    "dtype = \"float32\"\n",
    "batch_size = 1\n",
    "\n",
    "data = np.empty([batch_size, net.c, net.h, net.w], dtype)\n",
    "shape_dict = {\"data\": data.shape}\n",
    "print(shape_dict)\n",
    "print(net.layers[net.n - 1].classes)"
   ]
  },
  {
   "cell_type": "code",
   "execution_count": 5,
   "id": "7a843948",
   "metadata": {},
   "outputs": [
    {
     "name": "stdout",
     "output_type": "stream",
     "text": [
      "Converting darknet to relay function...\n"
     ]
    }
   ],
   "source": [
    "print(\"Converting darknet to relay function...\")"
   ]
  },
  {
   "cell_type": "code",
   "execution_count": 6,
   "id": "d6a352f6",
   "metadata": {},
   "outputs": [],
   "source": [
    "mod, params = relay.frontend.from_darknet(net, dtype=dtype, shape=data.shape)"
   ]
  },
  {
   "cell_type": "markdown",
   "id": "f7d9ce2f",
   "metadata": {},
   "source": [
    "## Compiling the model"
   ]
  },
  {
   "cell_type": "code",
   "execution_count": 7,
   "id": "26870e84",
   "metadata": {},
   "outputs": [],
   "source": [
    "target = tvm.target.Target(\"llvm\")\n",
    "target_host = tvm.target.Target(\"llvm\")"
   ]
  },
  {
   "cell_type": "code",
   "execution_count": 8,
   "id": "cf32f7e3",
   "metadata": {},
   "outputs": [
    {
     "name": "stderr",
     "output_type": "stream",
     "text": [
      "One or more operators have not been tuned. Please tune your model for better performance. Use DEBUG logging level to see more details.\n"
     ]
    },
    {
     "name": "stdout",
     "output_type": "stream",
     "text": [
      "<tvm.relay.backend.executor_factory.GraphExecutorFactoryModule object at 0x7f4e84eed4a8>\n"
     ]
    }
   ],
   "source": [
    "with tvm.transform.PassContext(opt_level=3):\n",
    "    lib = relay.build(mod, target=target, target_host=target_host, params=params, mod_name=\"yolov3\")\n",
    "print(lib)"
   ]
  },
  {
   "cell_type": "markdown",
   "id": "cc360655",
   "metadata": {},
   "source": [
    "## export module"
   ]
  },
  {
   "cell_type": "code",
   "execution_count": 9,
   "id": "4ff54777",
   "metadata": {},
   "outputs": [],
   "source": [
    "# output lib path\n",
    "export_lib_path = \"../module/x64/yolov3.so\"\n",
    "\n",
    "# export params path\n",
    "export_params_path = \"../module/x64/yolov3.params\""
   ]
  },
  {
   "cell_type": "code",
   "execution_count": 10,
   "id": "3f8259b1",
   "metadata": {},
   "outputs": [],
   "source": [
    "lib.export_library(export_lib_path)\n",
    "#tvm.contrib.cc.cross_compiler(\"aarch64-linux-gnu-g++\")"
   ]
  },
  {
   "cell_type": "code",
   "execution_count": 11,
   "id": "ec6af57c",
   "metadata": {},
   "outputs": [],
   "source": [
    "with open(export_params_path, 'wb') as fo:\n",
    "    fo.write(relay.save_param_dict(params))"
   ]
  },
  {
   "cell_type": "markdown",
   "id": "d98ab15b",
   "metadata": {},
   "source": [
    "## Execute on TVM Runtime"
   ]
  },
  {
   "cell_type": "code",
   "execution_count": null,
   "id": "44ac1b3e",
   "metadata": {},
   "outputs": [],
   "source": []
  }
 ],
 "metadata": {
  "kernelspec": {
   "display_name": "Python 3",
   "language": "python",
   "name": "python3"
  },
  "language_info": {
   "codemirror_mode": {
    "name": "ipython",
    "version": 3
   },
   "file_extension": ".py",
   "mimetype": "text/x-python",
   "name": "python",
   "nbconvert_exporter": "python",
   "pygments_lexer": "ipython3",
   "version": "3.6.9"
  }
 },
 "nbformat": 4,
 "nbformat_minor": 5
}
